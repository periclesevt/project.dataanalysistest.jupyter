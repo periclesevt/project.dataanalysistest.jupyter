{
 "cells": [
  {
   "cell_type": "code",
   "id": "f3cec749",
   "metadata": {},
   "source": [
    "#Importando a biblioteca que será utilizada.\n",
    "import pandas as pd\n",
    "\n",
    "\n",
    "#Importando a base de dados que será lido pelo pd\n",
    "tabela = pd.read_csv(\"C:/Users/peric/Ascensão/Aula 2/telecom_users.csv\")\n",
    "\n",
    "\n"
   ],
   "outputs": [],
   "execution_count": null
  },
  {
   "cell_type": "code",
   "id": "8d195be7",
   "metadata": {
    "scrolled": true
   },
   "source": [
    "#Visualizando a base de dados\n",
    "tabela = tabela.drop(\"Unnamed: 0\", axis=1)\n",
    "display(tabela)\n",
    "\n"
   ],
   "outputs": [],
   "execution_count": null
  },
  {
   "cell_type": "code",
   "id": "baafc0d2",
   "metadata": {},
   "source": [
    "print(tabela.info())"
   ],
   "outputs": [],
   "execution_count": null
  },
  {
   "cell_type": "code",
   "id": "d05f7d21",
   "metadata": {},
   "source": [
    "#Tratamento da base de dados\n",
    "\n",
    "#1. Transformar a tabela que está com o Dtype errado\n",
    "tabela[\"TotalGasto\"] = pd.to_numeric(tabela[\"TotalGasto\"], errors = \"coerce\")\n",
    "\n",
    "#2. Remover a coluna que não possui nenhum dado\n",
    "tabela = tabela.dropna(how=\"all\", axis=1)\n",
    "\n",
    "#3. Remover linhas que possuem valores em branco\n",
    "tabela = tabela.dropna()\n",
    "\n",
    "\n"
   ],
   "outputs": [],
   "execution_count": null
  },
  {
   "cell_type": "markdown",
   "id": "0b161315",
   "metadata": {},
   "source": [
    "Agora, é necessário analisar o problema para entende-lo e tentar achar a solução com base nos dados que possuímos."
   ]
  },
  {
   "cell_type": "code",
   "id": "e0abf4f7",
   "metadata": {
    "scrolled": true
   },
   "source": [
    "#Análise inicial\n",
    "#Avaliando Churn por porcentagem para avaliação\n",
    "\n",
    "display(tabela[\"Churn\"].value_counts(normalize=True).map(\"{:.1%}\".format))\n"
   ],
   "outputs": [],
   "execution_count": null
  },
  {
   "cell_type": "code",
   "id": "790ff55b",
   "metadata": {
    "scrolled": true
   },
   "source": [
    "#Importando a biblioteca que será responsável por montar os gráficos\n",
    "import plotly.express as px\n",
    "\n",
    "#Criando um laço for para cada coluna ser compararada com \"Churn\"\n",
    "for coluna in tabela.columns:\n",
    "    if coluna != \"IDCliente\":\n",
    "        #Criando o gráfico\n",
    "        grafico = px.histogram(tabela, x = coluna, color = \"Churn\")\n",
    "        #Exibindo o gráfico\n",
    "        grafico.show()\n",
    "        display(tabela.pivot_table(index=\"Churn\", columns = coluna, aggfunc = \"count\")[\"IDCliente\"])"
   ],
   "outputs": [],
   "execution_count": null
  },
  {
   "cell_type": "markdown",
   "id": "d6e0747c",
   "metadata": {},
   "source": [
    "# Considerações e conclusões:\n",
    "\n",
    "\n",
    "1. Os clientes que possuem contrato mensal tem muita mais chances de cancelar\n",
    "            Podem ser feitas promoções para o cliente aderir ao contato anual\n",
    "            \n",
    "2. Famílias maiores tendem a cancelar menos que famílias menores\n",
    "            Podem fazer promoções para linhas adicionais de telefone\n",
    "            \n",
    "3. Clientes com pouco tempo como cliente tendem a cancelar muito\n",
    "            As primeiras experiências com o cliente podem estar sendo desagradáveis\n",
    "            Talvez a captação de clientes está trazendo clientes desqualificados\n",
    "            Podem ser criados incentivos para o cliente passar mais tempo com os serviços\n",
    "\n",
    "4. Quanto mais serviços o cliente possui, menos chances tem de cancelar\n",
    "            Podem ser feitas mais promoções de serviços diversos e adicionais para os clientes\n",
    "            \n",
    "5. Existe algo no serviço de fibra que está desagradando\n",
    "            Avaliar o problema relacionado a fibra\n",
    "\n",
    "6. Clientes que pagam em boleto tem muita mais chance de cancelar\n",
    "            Incentivar a migração para outras formas de pagamentos \n"
   ]
  }
 ],
 "metadata": {
  "kernelspec": {
   "display_name": "Python 3",
   "language": "python",
   "name": "python3"
  },
  "language_info": {
   "codemirror_mode": {
    "name": "ipython",
    "version": 3
   },
   "file_extension": ".py",
   "mimetype": "text/x-python",
   "name": "python",
   "nbconvert_exporter": "python",
   "pygments_lexer": "ipython3",
   "version": "3.8.8"
  }
 },
 "nbformat": 4,
 "nbformat_minor": 5
}
